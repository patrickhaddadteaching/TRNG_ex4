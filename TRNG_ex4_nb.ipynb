{
 "cells": [
  {
   "cell_type": "code",
   "execution_count": 1,
   "id": "e4f65a30",
   "metadata": {},
   "outputs": [],
   "source": [
    "import numpy as np\n",
    "from scipy.stats import binom\n",
    "import matplotlib.pyplot as plt\n",
    "from ipywidgets import widgets,Layout,interactive,Layout"
   ]
  },
  {
   "cell_type": "code",
   "execution_count": 116,
   "id": "7008d252",
   "metadata": {},
   "outputs": [
    {
     "data": {
      "application/vnd.jupyter.widget-view+json": {
       "model_id": "7fe94a09e8a748a7bb9fb9a1a713f7f2",
       "version_major": 2,
       "version_minor": 0
      },
      "text/plain": [
       "VBox(children=(HTMLMath(value='<p>The purpose of the Monobit Test is to determine whether the number of ones a…"
      ]
     },
     "metadata": {},
     "output_type": "display_data"
    }
   ],
   "source": [
    "nb_p=1001\n",
    "p_min=0\n",
    "p_max=1-p_min\n",
    "v_p=p_min+(p_max-p_min)*((np.arange(nb_p,dtype=np.float64)/(nb_p-1)))\n",
    "v_h=np.zeros((nb_p,),dtype=np.float64)\n",
    "v_index_nn=np.where((v_p*(1-v_p))!=0)[0]\n",
    "v_h[v_index_nn]=(np.log2(v_p[v_index_nn])*(v_p[v_index_nn])+np.log2(1-v_p[v_index_nn])*(1-v_p[v_index_nn]))*-1\n",
    "index_0p5=np.argmin(abs(v_p-0.5))\n",
    "\n",
    "def plot_graph(nb_of_required_bits, v_Th,p_in):\n",
    "    \n",
    "    index_pin=np.argmin(abs(v_p-p_in))\n",
    "    \n",
    "    th_l=int(v_Th[0])\n",
    "    th_h=int(v_Th[1])\n",
    "    \n",
    "    v_prob = 1+binom.cdf(th_l, nb_of_required_bits, v_p)-binom.cdf(th_h, nb_of_required_bits, v_p)\n",
    "    v_prob0p5=v_prob[index_0p5]\n",
    "\n",
    "    fig_ratio=1.3\n",
    "    fig, ax1 = plt.subplots(1,figsize=[6*fig_ratio,4*fig_ratio])\n",
    "    ax2 = ax1.twinx()\n",
    "    ax1.plot(v_p,v_prob,'blue')\n",
    "    ax1.plot([v_p[index_0p5],v_p[index_0p5]],[v_prob[index_0p5],1],color='green',marker='o')\n",
    "    \n",
    "    \n",
    "\n",
    "    ax2.plot(v_p,v_h,color='red')\n",
    "    ax2.plot([v_p[index_pin],v_p.max()],[v_h[index_pin],v_h[index_pin]],color='red',alpha=0.5)\n",
    "    if v_h[index_pin]>v_prob[index_pin]:\n",
    "        ax2.plot([v_p[index_pin],v_p[index_pin]],[v_prob[index_pin],v_h[index_pin]],color='red',alpha=0.5)\n",
    "    \n",
    "    \n",
    "    \n",
    "    ax1.plot([v_p[index_pin],v_p[index_pin]],[0,v_prob[index_pin]],color='orange',marker='o')\n",
    "    \n",
    "    ax2.text(v_p[index_pin]+1.5e-2,1e-1,r'$1-\\beta=1-%E$'%(1-v_prob[index_pin]),color='orange',size=10,weight='bold',rotation=90.0,backgroundcolor='white')\n",
    "    ax2.text(0.85,v_h[index_pin]+3e-2,r'$H_{1}$=%.4f'%(v_h[index_pin]),color='red',size=10,rotation=0.0)\n",
    "    ax2.text(v_p[index_0p5]+1.5e-2,1e-1,r'$1-\\alpha=1-%E$'%v_prob[index_0p5],color='green',size=10,weight='bold',rotation=90.0)\n",
    "    \n",
    "    ax1.set_xlabel(r'Pr{X=1}')\n",
    "    ax1.set_ylabel(r'Pr{Null Hypothesis Rejected}')\n",
    "    ax2.set_ylabel(r'$H_{1}$')\n",
    "    ax1.yaxis.label.set_color('blue')\n",
    "    ax1.tick_params(axis='y', colors='blue')    \n",
    "    ax2.yaxis.label.set_color('red')\n",
    "    ax2.tick_params(axis='y', colors='red')\n",
    "    plt.xlim([p_min,p_max])\n",
    "    ax1.set_ylim([0,1.1])\n",
    "    ax2.set_ylim([0,1.1])\n",
    "    plt.show()\n",
    "\n",
    "w_html=widgets.HTMLMath(value=r\"<p>The purpose of the Monobit Test is to determine whether the number of ones and zeros in a sequence are approximately the same as would be expected for a truly random sequence.</p><p>It takes as input a sequence of $n$ bits : $b_{1},b_{2}\\cdots b_{n}$ where $n$ is an stricly positiv integer</p><p>The bit sequence $b_{1},b_{2}\\cdots b_{n}$ passes the monobit test if and only if $ T_{L} \\leq  \\sum_{i=1}^{i=n} b_{i} \\leq T_{H}$. If not, the test reject the null hypothesis</p>\",placeholder='',description='')\n",
    "\n",
    "max_required_bits=40000\n",
    "current_required_bits=20000\n",
    "current_relative_th=1000\n",
    "w_nb_of_required_bits=widgets.IntSlider(description=r'$N_{bits}$',style = {'description_width': 'initial'},value=current_required_bits,min=0,max=max_required_bits)\n",
    "w_v_Th=widgets.IntRangeSlider(description=r'$[T_{L},T_{H}]$',style = {'description_width': 'initial'},value = [int(current_required_bits/2-current_relative_th),int(current_required_bits/2+current_relative_th)], min = 0, max = max_required_bits, step = 1 )\n",
    "w_p_in=widgets.FloatSlider(description=r'Pr{X=1}',style = {'description_width': 'initial'},value=0.4,min=p_min,max=p_max, step = 0.01)\n",
    "interactive_plot = interactive(plot_graph, nb_of_required_bits=w_nb_of_required_bits,v_Th =w_v_Th ,p_in=w_p_in)\n",
    "w_html.layout=Layout(width='650px')\n",
    "interactive_plot.children[0].layout=Layout(width='415px')\n",
    "interactive_plot.children[1].layout=Layout(width='650px')\n",
    "interactive_plot.children[2].layout=Layout(width='650px')\n",
    "interactive_plot.children[-1].layout.width = '650px'\n",
    "v_box_top=widgets.VBox([w_html,interactive_plot.children[0],interactive_plot.children[1],interactive_plot.children[2],interactive_plot.children[3]])\n",
    "display(v_box_top) "
   ]
  }
 ],
 "metadata": {
  "kernelspec": {
   "display_name": "Python 3 (ipykernel)",
   "language": "python",
   "name": "python3"
  },
  "language_info": {
   "codemirror_mode": {
    "name": "ipython",
    "version": 3
   },
   "file_extension": ".py",
   "mimetype": "text/x-python",
   "name": "python",
   "nbconvert_exporter": "python",
   "pygments_lexer": "ipython3",
   "version": "3.9.7"
  }
 },
 "nbformat": 4,
 "nbformat_minor": 5
}
