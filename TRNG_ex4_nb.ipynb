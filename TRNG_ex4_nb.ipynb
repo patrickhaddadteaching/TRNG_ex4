{
 "cells": [
  {
   "cell_type": "code",
   "execution_count": 1,
   "metadata": {},
   "outputs": [],
   "source": [
    "import numpy as np\n",
    "from scipy.stats import binom\n",
    "from ipywidgets import widgets,Layout\n",
    "import functools"
   ]
  },
  {
   "cell_type": "code",
   "execution_count": 2,
   "metadata": {},
   "outputs": [],
   "source": [
    "nb_p=6\n",
    "p_min=0.41\n",
    "p_max=0.48\n",
    "v_p=p_min+(p_max-p_min)*((np.arange(nb_p,dtype=np.float64)/(nb_p-1)))[::-1]\n",
    "\n",
    "\n",
    "def paramt1(nb_of_required_bits,A,v_p):   \n",
    "    nb_p=v_p.shape[0]\n",
    "    half_nb_of_required_bits=nb_of_required_bits/2\n",
    "    v_x2=np.array(half_nb_of_required_bits-A+np.arange(2*A+1),dtype=np.uint64)\n",
    "    p=0.5\n",
    "    alpha=1-(binom.pmf(v_x2,nb_of_required_bits,p).sum())\n",
    "    if alpha<0:\n",
    "        alpha=0\n",
    "    v_beta=np.zeros(nb_p,dtype=np.float64)\n",
    "    for i_p in range(nb_p):\n",
    "        p=v_p[i_p]\n",
    "        beta=(binom.pmf(v_x2,nb_of_required_bits,p).sum())\n",
    "        if beta >0:\n",
    "            v_beta[i_p]=beta\n",
    "    return alpha,v_beta"
   ]
  },
  {
   "cell_type": "code",
   "execution_count": 6,
   "metadata": {},
   "outputs": [
    {
     "data": {
      "application/vnd.jupyter.widget-view+json": {
       "model_id": "8aed7c45dc9544dd956538ae50369a91"
      }
     },
     "metadata": {},
     "output_type": "display_data"
    }
   ],
   "source": [
    "cell_height=60\n",
    "cell_width=105\n",
    "\n",
    "\n",
    "w_nb_of_required_bits=widgets.IntSlider(description=\"Number of inputs bits\",style = {'description_width': 'initial'},value=20000,min=4096,max=40000,layout= Layout(width='%dpx'%(cell_width*(nb_p+2))))\n",
    "w_A=widgets.IntSlider(description=\"Relative threshold\",style = {'description_width': 'initial'},value=346,min=1,max=1000,layout= Layout(width='%dpx'%(cell_width*(nb_p+2))))\n",
    "\n",
    "alpha,v_beta=paramt1(w_nb_of_required_bits.value,w_A.value,v_p)\n",
    "\n",
    "v_items=[]\n",
    "\n",
    "box_layout = Layout(height='%dpx'%cell_height,width='%dpx'%cell_width,border='1px solid gray',margin='0px 0px 0px 0px')\n",
    "box_layout2 = Layout(height='%dpx'%cell_height,width='%dpx'%(cell_width*nb_p),border='1px solid gray',margin='0px 0px 0px 0px')\n",
    "\n",
    "\n",
    "v_items_h=[]\n",
    "v_items_h.append(widgets.HTMLMath('',layout=box_layout))\n",
    "v_items_h.append(widgets.HTMLMath('<p>Null hypothesis is <b>in fact true</b></p>',layout=box_layout))\n",
    "v_items_h.append(widgets.HTMLMath('<p>Null hypothesis is <b>in fact false</b></p>',layout=box_layout2))\n",
    "v_items.append(v_items_h)\n",
    "\n",
    "v_items_h=[]\n",
    "v_items_h.append(widgets.HTMLMath('Entropy H<sub>1</sub>',layout=box_layout))\n",
    "v_items_h.append(widgets.HTMLMath('<p>H<sub>1</sub>=1.00</p>',layout=box_layout))\n",
    "for i in range(nb_p):\n",
    "    if ((v_p[i])*(1-v_p[i]))!=0:\n",
    "        h=-1*(v_p[i])*np.log2(v_p[i])-(1-v_p[i])*np.log2(1-v_p[i])\n",
    "    else:\n",
    "        h=0\n",
    "    v_items_h.append(widgets.HTMLMath('<p> H<sub>1</sub>=%.3f</p>'%h,layout=box_layout))\n",
    "v_items.append(v_items_h)\n",
    "\n",
    "\n",
    "v_items_h=[]\n",
    "v_items_h.append(widgets.HTMLMath('<p>Test <b>rejects</b> Null hypothesis </p>',layout=box_layout))\n",
    "v_items_h.append(widgets.HTMLMath('<p style=\"color:#FF8000\";><b>&#945=%.3E</b></p>'%alpha,layout=box_layout))\n",
    "for i in range(nb_p):\n",
    "    v_items_h.append(widgets.HTMLMath('<p style=\"color:#00FF00\";><b>1-&#946=%.3E</b></p>'%(1-v_beta[i]),layout=box_layout))\n",
    "v_items.append(v_items_h)\n",
    "\n",
    "v_items_h=[]\n",
    "v_items_h.append(widgets.HTMLMath('<p>Test <b>does not reject</b> Null hypothesis</p>',layout=box_layout))\n",
    "v_items_h.append(widgets.HTMLMath('<p style=\"color:#00FF00\";><b>1-&#945=%.3E</b></p>'%(1-alpha),layout=box_layout))\n",
    "for i in range(nb_p):\n",
    "    v_items_h.append(widgets.HTMLMath('<p style=\"color:#FF0000\";><b>&#946=%.3E</b></p>'%(v_beta[i]),layout=box_layout))\n",
    "v_items.append(v_items_h)\n",
    "\n",
    "nb_lines=len(v_items)\n",
    "v_hb=[]\n",
    "for i in range(nb_lines):\n",
    "    v_tmp=v_items[i]\n",
    "    nb_row=len(v_tmp)\n",
    "    v_box=[]\n",
    "    for j in range(nb_row):\n",
    "        v_box.append(v_tmp[j])\n",
    "    v_hb.append(widgets.HBox(v_box))\n",
    "v_box_table=widgets.VBox(v_hb)\n",
    "\n",
    "\n",
    "\n",
    "def change_on_param(obj):\n",
    "    if obj['new']:\n",
    "        alpha,v_beta=paramt1(w_nb_of_required_bits.value,w_A.value,v_p)\n",
    "        (v_box_table.children[2]).children[1].value='<p style=\"color:#FF8000\";><b>&#945=%.3E</b></p>'%alpha\n",
    "        (v_box_table.children[3]).children[1].value='<p style=\"color:#00FF00\";><b>1-&#945=%.3E</b></p>'%(1-alpha)       \n",
    "        for i in range(nb_p):\n",
    "            (v_box_table.children[2]).children[i+2].value='<p style=\"color:#00FF00\";><b>1-&#946=%.3E</b></p>'%(1-v_beta[i])\n",
    "            (v_box_table.children[3]).children[i+2].value='<p style=\"color:#FF0000\";><b>&#946=%.3E</b></p>'%(v_beta[i])\n",
    "\n",
    "    \n",
    "        \n",
    "        \n",
    "w_nb_of_required_bits.observe(functools.partial(change_on_param),'value')\n",
    "w_A.observe(functools.partial(change_on_param),'value')\n",
    "        \n",
    "v_box_top=widgets.VBox([w_nb_of_required_bits,w_A,v_box_table])\n",
    "display(v_box_top)"
   ]
  },
  {
   "cell_type": "code",
   "execution_count": null,
   "metadata": {},
   "outputs": [],
   "source": []
  }
 ],
 "metadata": {
  "kernelspec": {
   "display_name": "Python 3",
   "language": "python",
   "name": "python3"
  },
  "language_info": {
   "codemirror_mode": {
    "name": "ipython",
    "version": 3
   },
   "file_extension": ".py",
   "mimetype": "text/x-python",
   "name": "python",
   "nbconvert_exporter": "python",
   "pygments_lexer": "ipython3",
   "version": "3.6.9"
  }
 },
 "nbformat": 4,
 "nbformat_minor": 2
}
